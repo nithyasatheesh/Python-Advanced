{
 "cells": [
  {
   "cell_type": "markdown",
   "id": "59c8c1b2",
   "metadata": {},
   "source": [
    "## String Methods"
   ]
  },
  {
   "cell_type": "code",
   "execution_count": null,
   "id": "17ce0e35",
   "metadata": {},
   "outputs": [],
   "source": [
    "Python string is a sequence of Unicode characters that is enclosed in the quotations marks"
   ]
  },
  {
   "cell_type": "code",
   "execution_count": null,
   "id": "2b90d4e6",
   "metadata": {},
   "outputs": [],
   "source": [
    "##### Case Changing of Strings\n",
    "The below functions are used to change the case of the strings.\n",
    "\n",
    "lower(): Converts all uppercase characters in a string into lowercase\n",
    "upper(): Converts all lowercase characters in a string into uppercase\n",
    "title(): Convert string to title case"
   ]
  },
  {
   "cell_type": "markdown",
   "id": "61bf1321",
   "metadata": {},
   "source": [
    "text=\" Welcome\"\n",
    "print(text.lower())\n",
    "print(text.upper())\n",
    "print(text.title())"
   ]
  },
  {
   "cell_type": "markdown",
   "id": "0fb17dcc",
   "metadata": {},
   "source": [
    "#### Python string | swapcase()\n",
    "The string swapcase() method converts all uppercase characters to lowercase and vice versa of the given string, and returns it"
   ]
  },
  {
   "cell_type": "code",
   "execution_count": null,
   "id": "eadfa5a0",
   "metadata": {},
   "outputs": [],
   "source": [
    "string = \"jigSaw\"\n",
    "  \n"
   ]
  },
  {
   "cell_type": "markdown",
   "id": "d4963377",
   "metadata": {},
   "source": [
    "### String formatting in Python¶"
   ]
  },
  {
   "cell_type": "markdown",
   "id": "ea77f8c6",
   "metadata": {},
   "source": [
    "Formatting with format() string method. Formatting with string literals, called f-strings"
   ]
  },
  {
   "cell_type": "code",
   "execution_count": null,
   "id": "b09125cc",
   "metadata": {},
   "outputs": [],
   "source": [
    "# Formatting string using format() method\n"
   ]
  },
  {
   "cell_type": "code",
   "execution_count": null,
   "id": "48bab052",
   "metadata": {},
   "outputs": [],
   "source": []
  },
  {
   "cell_type": "code",
   "execution_count": null,
   "id": "60d0621b",
   "metadata": {},
   "outputs": [],
   "source": [
    "# Formatted String using F-strings\n"
   ]
  },
  {
   "cell_type": "markdown",
   "id": "4851f225",
   "metadata": {},
   "source": [
    "### Splitting and Joining"
   ]
  },
  {
   "cell_type": "markdown",
   "id": "25d0b2c1",
   "metadata": {},
   "source": [
    "we can use the function split() to split a string and join() to join a string. the split() method in Python split a string into a list of strings after breaking the given string by the specified separator. Python String join() method is a string method and returns a string in which the elements of the sequence have been joined by the str separator."
   ]
  },
  {
   "cell_type": "code",
   "execution_count": null,
   "id": "06c17d1f",
   "metadata": {},
   "outputs": [],
   "source": [
    "# input string\n",
    "s = 'Welcome to our Country'\n",
    "# print the string after split method\n",
    "\n",
    "# print the string after join method\n"
   ]
  },
  {
   "cell_type": "markdown",
   "id": "a906f950",
   "metadata": {},
   "source": [
    "### Built in functions"
   ]
  },
  {
   "cell_type": "code",
   "execution_count": null,
   "id": "d15f45cc",
   "metadata": {},
   "outputs": [],
   "source": [
    "# string functions\n"
   ]
  },
  {
   "cell_type": "code",
   "execution_count": null,
   "id": "b4478aac",
   "metadata": {},
   "outputs": [],
   "source": [
    "# The slice() function returns a slice object.\n",
    "#specified by range(start, stop, step)\n",
    "  #start: #Optional. An integer number specifying at which position to start the slicing. Default is 0\n",
    "  #end: An integer number specifying at which position to end the slicing\n",
    "  #step: Optional. An integer number specifying the step of the slicing. Default is 1\n"
   ]
  },
  {
   "cell_type": "code",
   "execution_count": null,
   "id": "97c6a53f",
   "metadata": {},
   "outputs": [],
   "source": [
    "# enumerate\n",
    "# Enumerate() function adds a counter to an iterable and returns it in a form of enumerating object. \n",
    "#This enumerated object can then be used directly for loops or \n",
    "#converted into a list of tuples using the list() method.\n",
    "l1 = [\"eat\", \"sleep\", \"repeat\"]\n"
   ]
  },
  {
   "cell_type": "markdown",
   "id": "eb8e8892",
   "metadata": {},
   "source": [
    "#### Numeric functions"
   ]
  },
  {
   "cell_type": "code",
   "execution_count": null,
   "id": "6b4cfd8d",
   "metadata": {},
   "outputs": [],
   "source": [
    "# reduce function"
   ]
  },
  {
   "cell_type": "code",
   "execution_count": null,
   "id": "81910bfe",
   "metadata": {},
   "outputs": [],
   "source": []
  },
  {
   "cell_type": "code",
   "execution_count": null,
   "id": "50d59485",
   "metadata": {},
   "outputs": [],
   "source": [
    "#pow()\n"
   ]
  }
 ],
 "metadata": {
  "kernelspec": {
   "display_name": "Python 3 (ipykernel)",
   "language": "python",
   "name": "python3"
  },
  "language_info": {
   "codemirror_mode": {
    "name": "ipython",
    "version": 3
   },
   "file_extension": ".py",
   "mimetype": "text/x-python",
   "name": "python",
   "nbconvert_exporter": "python",
   "pygments_lexer": "ipython3",
   "version": "3.9.13"
  }
 },
 "nbformat": 4,
 "nbformat_minor": 5
}
