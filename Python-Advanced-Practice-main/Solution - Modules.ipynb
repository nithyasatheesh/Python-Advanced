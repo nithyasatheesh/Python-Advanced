{
 "cells": [
  {
   "cell_type": "code",
   "execution_count": 2,
   "id": "b0c8a3ce",
   "metadata": {},
   "outputs": [
    {
     "name": "stdout",
     "output_type": "stream",
     "text": [
      "Select a random element from a list:\n",
      "4\n",
      "4\n",
      "4\n",
      "\n",
      "Select a random element from a set:\n",
      "5\n",
      "3\n",
      "4\n",
      "\n",
      "Select a random value from a dictionary:\n",
      "1\n",
      "4\n",
      "2\n",
      "\n",
      "Select a random file from a directory.:\n",
      "hp_lj1020_Full_Solution\n"
     ]
    }
   ],
   "source": [
    "import random\n",
    "import os\n",
    "print(\"Select a random element from a list:\")\n",
    "elements = [1, 2, 3, 4, 5]\n",
    "print(random.choice(elements))\n",
    "print(random.choice(elements))\n",
    "print(random.choice(elements))\n",
    "print(\"\\nSelect a random element from a set:\")\n",
    "elements = set([1, 2, 3, 4, 5])\n",
    "# convert to tuple because sets are invalid inputs\n",
    "print(random.choice(tuple(elements)))\n",
    "print(random.choice(tuple(elements)))\n",
    "print(random.choice(tuple(elements)))\n",
    "print(\"\\nSelect a random value from a dictionary:\")\n",
    "d = {\"a\": 1, \"b\": 2, \"c\": 3, \"d\": 4, \"e\": 5}\n",
    "key = random.choice(list(d))\n",
    "print(d[key])\n",
    "key = random.choice(list(d))\n",
    "print(d[key])\n",
    "key = random.choice(list(d))\n",
    "print(d[key]) \n",
    "print(\"\\nSelect a random file from a directory.:\")\n",
    "print(random.choice(os.listdir(\"/\")))"
   ]
  },
  {
   "cell_type": "code",
   "execution_count": null,
   "id": "192d1c1b",
   "metadata": {},
   "outputs": [],
   "source": []
  }
 ],
 "metadata": {
  "kernelspec": {
   "display_name": "Python 3 (ipykernel)",
   "language": "python",
   "name": "python3"
  },
  "language_info": {
   "codemirror_mode": {
    "name": "ipython",
    "version": 3
   },
   "file_extension": ".py",
   "mimetype": "text/x-python",
   "name": "python",
   "nbconvert_exporter": "python",
   "pygments_lexer": "ipython3",
   "version": "3.9.7"
  }
 },
 "nbformat": 4,
 "nbformat_minor": 5
}
