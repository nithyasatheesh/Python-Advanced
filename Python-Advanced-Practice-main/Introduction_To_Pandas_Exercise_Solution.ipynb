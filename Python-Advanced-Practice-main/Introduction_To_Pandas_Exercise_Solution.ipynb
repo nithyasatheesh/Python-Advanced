{
 "cells": [
  {
   "cell_type": "code",
   "execution_count": 2,
   "id": "a438d1af",
   "metadata": {},
   "outputs": [
    {
     "name": "stdout",
     "output_type": "stream",
     "text": [
      "0     2\n",
      "1     3\n",
      "2     5\n",
      "3     7\n",
      "4    11\n",
      "dtype: int64\n"
     ]
    }
   ],
   "source": [
    "## 1. Create and display a pandas series containing the first 5 prime numbers\n",
    "\n",
    "import pandas as pd\n",
    "prime_ser = pd.Series([2,3,5,7,11])\n",
    "print(prime_ser)"
   ]
  },
  {
   "cell_type": "code",
   "execution_count": 3,
   "id": "936bafe2",
   "metadata": {},
   "outputs": [
    {
     "name": "stdout",
     "output_type": "stream",
     "text": [
      "0      8\n",
      "1     18\n",
      "2     40\n",
      "3     63\n",
      "4    110\n",
      "dtype: int64\n"
     ]
    }
   ],
   "source": [
    "## 2. Create two series of first 5 prime numbers and first 5 composite numbers respectively, and perform multiplication on both\n",
    "\n",
    "prime_ser = pd.Series([2,3,5,7,11])\n",
    "comp_ser = pd.Series([4,6,8,9,10])\n",
    "prod_ser = prime_ser * comp_ser\n",
    "print(prod_ser)"
   ]
  },
  {
   "cell_type": "code",
   "execution_count": 4,
   "id": "5b3b41b7",
   "metadata": {},
   "outputs": [
    {
     "name": "stdout",
     "output_type": "stream",
     "text": [
      "2    8\n",
      "3    9\n",
      "dtype: int64\n"
     ]
    }
   ],
   "source": [
    "## 3. Retrieve the 3rd and 4th series elements from the composite number series created in the previous question\n",
    "\n",
    "print(comp_ser[2:4])"
   ]
  },
  {
   "cell_type": "code",
   "execution_count": 5,
   "id": "382c437b",
   "metadata": {},
   "outputs": [
    {
     "name": "stdout",
     "output_type": "stream",
     "text": [
      "0     2\n",
      "1     3\n",
      "2     5\n",
      "3     7\n",
      "4    11\n",
      "0     4\n",
      "1     6\n",
      "2     8\n",
      "3     9\n",
      "4    10\n",
      "dtype: int64\n"
     ]
    },
    {
     "name": "stderr",
     "output_type": "stream",
     "text": [
      "C:\\Users\\nithyalakshmim\\AppData\\Local\\Temp\\ipykernel_50328\\1401507175.py:3: FutureWarning: The series.append method is deprecated and will be removed from pandas in a future version. Use pandas.concat instead.\n",
      "  num_ser = prime_ser.append(comp_ser)\n"
     ]
    }
   ],
   "source": [
    "## 4. Add the composite number series created to the prime number series\n",
    "\n",
    "num_ser = prime_ser.append(comp_ser)\n",
    "print(num_ser)"
   ]
  },
  {
   "cell_type": "code",
   "execution_count": 6,
   "id": "ccbf2efb",
   "metadata": {},
   "outputs": [
    {
     "name": "stdout",
     "output_type": "stream",
     "text": [
      "1     3\n",
      "2     5\n",
      "3     7\n",
      "4    11\n",
      "dtype: int64\n"
     ]
    }
   ],
   "source": [
    "## 5. From the prime number series created in Q1, remove the even prime number\n",
    "new_prime_ser = prime_ser.drop(0)\n",
    "print(new_prime_ser)"
   ]
  },
  {
   "cell_type": "code",
   "execution_count": 7,
   "id": "8154de5b",
   "metadata": {},
   "outputs": [
    {
     "data": {
      "text/html": [
       "<div>\n",
       "<style scoped>\n",
       "    .dataframe tbody tr th:only-of-type {\n",
       "        vertical-align: middle;\n",
       "    }\n",
       "\n",
       "    .dataframe tbody tr th {\n",
       "        vertical-align: top;\n",
       "    }\n",
       "\n",
       "    .dataframe thead th {\n",
       "        text-align: right;\n",
       "    }\n",
       "</style>\n",
       "<table border=\"1\" class=\"dataframe\">\n",
       "  <thead>\n",
       "    <tr style=\"text-align: right;\">\n",
       "      <th></th>\n",
       "      <th>Name</th>\n",
       "      <th>Salary</th>\n",
       "    </tr>\n",
       "  </thead>\n",
       "  <tbody>\n",
       "    <tr>\n",
       "      <th>0</th>\n",
       "      <td>Anna</td>\n",
       "      <td>600</td>\n",
       "    </tr>\n",
       "    <tr>\n",
       "      <th>1</th>\n",
       "      <td>John</td>\n",
       "      <td>756</td>\n",
       "    </tr>\n",
       "    <tr>\n",
       "      <th>2</th>\n",
       "      <td>Smith</td>\n",
       "      <td>587</td>\n",
       "    </tr>\n",
       "    <tr>\n",
       "      <th>3</th>\n",
       "      <td>Jessie</td>\n",
       "      <td>859</td>\n",
       "    </tr>\n",
       "    <tr>\n",
       "      <th>4</th>\n",
       "      <td>Shawn</td>\n",
       "      <td>990</td>\n",
       "    </tr>\n",
       "  </tbody>\n",
       "</table>\n",
       "</div>"
      ],
      "text/plain": [
       "     Name  Salary\n",
       "0    Anna     600\n",
       "1    John     756\n",
       "2   Smith     587\n",
       "3  Jessie     859\n",
       "4   Shawn     990"
      ]
     },
     "execution_count": 7,
     "metadata": {},
     "output_type": "execute_result"
    }
   ],
   "source": [
    "## 6. Create a dataframe of five employees with their monthly salary from a dictionary of lists\n",
    "emp_sal = {'Name':['Anna','John','Smith','Jessie','Shawn'], 'Salary':[600,756,587,859,990]}\n",
    "df = pd.DataFrame(emp_sal)\n",
    "\n",
    "df"
   ]
  },
  {
   "cell_type": "code",
   "execution_count": 8,
   "id": "df3e8f6d",
   "metadata": {},
   "outputs": [
    {
     "data": {
      "text/plain": [
       "0    600\n",
       "1    756\n",
       "2    587\n",
       "3    859\n",
       "4    990\n",
       "Name: Salary, dtype: int64"
      ]
     },
     "execution_count": 8,
     "metadata": {},
     "output_type": "execute_result"
    }
   ],
   "source": [
    "## 7. From the employee dataframe created in Q7, extract the salary column alone\n",
    "\n",
    "df['Salary']"
   ]
  },
  {
   "cell_type": "code",
   "execution_count": 9,
   "id": "4c842d3e",
   "metadata": {},
   "outputs": [
    {
     "data": {
      "text/html": [
       "<div>\n",
       "<style scoped>\n",
       "    .dataframe tbody tr th:only-of-type {\n",
       "        vertical-align: middle;\n",
       "    }\n",
       "\n",
       "    .dataframe tbody tr th {\n",
       "        vertical-align: top;\n",
       "    }\n",
       "\n",
       "    .dataframe thead th {\n",
       "        text-align: right;\n",
       "    }\n",
       "</style>\n",
       "<table border=\"1\" class=\"dataframe\">\n",
       "  <thead>\n",
       "    <tr style=\"text-align: right;\">\n",
       "      <th></th>\n",
       "      <th>First_Name</th>\n",
       "      <th>Monthly_Salary</th>\n",
       "    </tr>\n",
       "  </thead>\n",
       "  <tbody>\n",
       "    <tr>\n",
       "      <th>0</th>\n",
       "      <td>Anna</td>\n",
       "      <td>600</td>\n",
       "    </tr>\n",
       "    <tr>\n",
       "      <th>1</th>\n",
       "      <td>John</td>\n",
       "      <td>756</td>\n",
       "    </tr>\n",
       "    <tr>\n",
       "      <th>2</th>\n",
       "      <td>Smith</td>\n",
       "      <td>587</td>\n",
       "    </tr>\n",
       "    <tr>\n",
       "      <th>3</th>\n",
       "      <td>Jessie</td>\n",
       "      <td>859</td>\n",
       "    </tr>\n",
       "    <tr>\n",
       "      <th>4</th>\n",
       "      <td>Shawn</td>\n",
       "      <td>990</td>\n",
       "    </tr>\n",
       "  </tbody>\n",
       "</table>\n",
       "</div>"
      ],
      "text/plain": [
       "  First_Name  Monthly_Salary\n",
       "0       Anna             600\n",
       "1       John             756\n",
       "2      Smith             587\n",
       "3     Jessie             859\n",
       "4      Shawn             990"
      ]
     },
     "execution_count": 9,
     "metadata": {},
     "output_type": "execute_result"
    }
   ],
   "source": [
    "## 8. Revise the column names of the employee dataframe to \"First_Name\" and \"Monthly_Salary\"\n",
    "df.rename(columns={'Name':'First_Name','Salary':'Monthly_Salary'}, inplace=True)\n",
    "df"
   ]
  },
  {
   "cell_type": "code",
   "execution_count": 15,
   "id": "21b022df",
   "metadata": {},
   "outputs": [
    {
     "data": {
      "text/html": [
       "<div>\n",
       "<style scoped>\n",
       "    .dataframe tbody tr th:only-of-type {\n",
       "        vertical-align: middle;\n",
       "    }\n",
       "\n",
       "    .dataframe tbody tr th {\n",
       "        vertical-align: top;\n",
       "    }\n",
       "\n",
       "    .dataframe thead th {\n",
       "        text-align: right;\n",
       "    }\n",
       "</style>\n",
       "<table border=\"1\" class=\"dataframe\">\n",
       "  <thead>\n",
       "    <tr style=\"text-align: right;\">\n",
       "      <th></th>\n",
       "      <th>store</th>\n",
       "      <th>brand</th>\n",
       "      <th>week</th>\n",
       "      <th>logmove</th>\n",
       "      <th>feat</th>\n",
       "      <th>price</th>\n",
       "      <th>AGE60</th>\n",
       "      <th>EDUC</th>\n",
       "      <th>ETHNIC</th>\n",
       "      <th>INCOME</th>\n",
       "      <th>HHLARGE</th>\n",
       "      <th>WORKWOM</th>\n",
       "      <th>HVAL150</th>\n",
       "      <th>SSTRDIST</th>\n",
       "      <th>SSTRVOL</th>\n",
       "      <th>CPDIST5</th>\n",
       "      <th>CPWVOL5</th>\n",
       "    </tr>\n",
       "  </thead>\n",
       "  <tbody>\n",
       "    <tr>\n",
       "      <th>0</th>\n",
       "      <td>2</td>\n",
       "      <td>tropicana</td>\n",
       "      <td>40</td>\n",
       "      <td>9.018695</td>\n",
       "      <td>0</td>\n",
       "      <td>3.87</td>\n",
       "      <td>0.232865</td>\n",
       "      <td>0.248935</td>\n",
       "      <td>0.11428</td>\n",
       "      <td>10.553205</td>\n",
       "      <td>0.103953</td>\n",
       "      <td>0.303585</td>\n",
       "      <td>0.463887</td>\n",
       "      <td>2.110122</td>\n",
       "      <td>1.142857</td>\n",
       "      <td>1.92728</td>\n",
       "      <td>0.376927</td>\n",
       "    </tr>\n",
       "    <tr>\n",
       "      <th>1</th>\n",
       "      <td>2</td>\n",
       "      <td>tropicana</td>\n",
       "      <td>46</td>\n",
       "      <td>8.723231</td>\n",
       "      <td>0</td>\n",
       "      <td>3.87</td>\n",
       "      <td>0.232865</td>\n",
       "      <td>0.248935</td>\n",
       "      <td>0.11428</td>\n",
       "      <td>10.553205</td>\n",
       "      <td>0.103953</td>\n",
       "      <td>0.303585</td>\n",
       "      <td>0.463887</td>\n",
       "      <td>2.110122</td>\n",
       "      <td>1.142857</td>\n",
       "      <td>1.92728</td>\n",
       "      <td>0.376927</td>\n",
       "    </tr>\n",
       "    <tr>\n",
       "      <th>2</th>\n",
       "      <td>2</td>\n",
       "      <td>tropicana</td>\n",
       "      <td>47</td>\n",
       "      <td>8.253228</td>\n",
       "      <td>0</td>\n",
       "      <td>3.87</td>\n",
       "      <td>0.232865</td>\n",
       "      <td>0.248935</td>\n",
       "      <td>0.11428</td>\n",
       "      <td>10.553205</td>\n",
       "      <td>0.103953</td>\n",
       "      <td>0.303585</td>\n",
       "      <td>0.463887</td>\n",
       "      <td>2.110122</td>\n",
       "      <td>1.142857</td>\n",
       "      <td>1.92728</td>\n",
       "      <td>0.376927</td>\n",
       "    </tr>\n",
       "    <tr>\n",
       "      <th>3</th>\n",
       "      <td>2</td>\n",
       "      <td>tropicana</td>\n",
       "      <td>48</td>\n",
       "      <td>8.987197</td>\n",
       "      <td>0</td>\n",
       "      <td>3.87</td>\n",
       "      <td>0.232865</td>\n",
       "      <td>0.248935</td>\n",
       "      <td>0.11428</td>\n",
       "      <td>10.553205</td>\n",
       "      <td>0.103953</td>\n",
       "      <td>0.303585</td>\n",
       "      <td>0.463887</td>\n",
       "      <td>2.110122</td>\n",
       "      <td>1.142857</td>\n",
       "      <td>1.92728</td>\n",
       "      <td>0.376927</td>\n",
       "    </tr>\n",
       "    <tr>\n",
       "      <th>4</th>\n",
       "      <td>2</td>\n",
       "      <td>tropicana</td>\n",
       "      <td>50</td>\n",
       "      <td>9.093357</td>\n",
       "      <td>0</td>\n",
       "      <td>3.87</td>\n",
       "      <td>0.232865</td>\n",
       "      <td>0.248935</td>\n",
       "      <td>0.11428</td>\n",
       "      <td>10.553205</td>\n",
       "      <td>0.103953</td>\n",
       "      <td>0.303585</td>\n",
       "      <td>0.463887</td>\n",
       "      <td>2.110122</td>\n",
       "      <td>1.142857</td>\n",
       "      <td>1.92728</td>\n",
       "      <td>0.376927</td>\n",
       "    </tr>\n",
       "  </tbody>\n",
       "</table>\n",
       "</div>"
      ],
      "text/plain": [
       "   store      brand  week   logmove  feat  price     AGE60      EDUC   ETHNIC  \\\n",
       "0      2  tropicana    40  9.018695     0   3.87  0.232865  0.248935  0.11428   \n",
       "1      2  tropicana    46  8.723231     0   3.87  0.232865  0.248935  0.11428   \n",
       "2      2  tropicana    47  8.253228     0   3.87  0.232865  0.248935  0.11428   \n",
       "3      2  tropicana    48  8.987197     0   3.87  0.232865  0.248935  0.11428   \n",
       "4      2  tropicana    50  9.093357     0   3.87  0.232865  0.248935  0.11428   \n",
       "\n",
       "      INCOME   HHLARGE   WORKWOM   HVAL150  SSTRDIST   SSTRVOL  CPDIST5  \\\n",
       "0  10.553205  0.103953  0.303585  0.463887  2.110122  1.142857  1.92728   \n",
       "1  10.553205  0.103953  0.303585  0.463887  2.110122  1.142857  1.92728   \n",
       "2  10.553205  0.103953  0.303585  0.463887  2.110122  1.142857  1.92728   \n",
       "3  10.553205  0.103953  0.303585  0.463887  2.110122  1.142857  1.92728   \n",
       "4  10.553205  0.103953  0.303585  0.463887  2.110122  1.142857  1.92728   \n",
       "\n",
       "    CPWVOL5  \n",
       "0  0.376927  \n",
       "1  0.376927  \n",
       "2  0.376927  \n",
       "3  0.376927  \n",
       "4  0.376927  "
      ]
     },
     "execution_count": 15,
     "metadata": {},
     "output_type": "execute_result"
    }
   ],
   "source": [
    "## 9. Read the csv file called \"starbucks_final\" into a pandas dataframe, and display the first five records\n",
    "oj= pd.read_csv(\"D://Files//oj.csv\")\n",
    "oj.head()"
   ]
  },
  {
   "cell_type": "code",
   "execution_count": 13,
   "id": "ef1f91c9",
   "metadata": {},
   "outputs": [
    {
     "data": {
      "text/html": [
       "<div>\n",
       "<style scoped>\n",
       "    .dataframe tbody tr th:only-of-type {\n",
       "        vertical-align: middle;\n",
       "    }\n",
       "\n",
       "    .dataframe tbody tr th {\n",
       "        vertical-align: top;\n",
       "    }\n",
       "\n",
       "    .dataframe thead th {\n",
       "        text-align: right;\n",
       "    }\n",
       "</style>\n",
       "<table border=\"1\" class=\"dataframe\">\n",
       "  <thead>\n",
       "    <tr style=\"text-align: right;\">\n",
       "      <th></th>\n",
       "      <th>store</th>\n",
       "      <th>week</th>\n",
       "      <th>logmove</th>\n",
       "      <th>feat</th>\n",
       "      <th>price</th>\n",
       "      <th>AGE60</th>\n",
       "      <th>EDUC</th>\n",
       "      <th>ETHNIC</th>\n",
       "      <th>INCOME</th>\n",
       "      <th>HHLARGE</th>\n",
       "      <th>WORKWOM</th>\n",
       "      <th>HVAL150</th>\n",
       "      <th>SSTRDIST</th>\n",
       "      <th>SSTRVOL</th>\n",
       "      <th>CPDIST5</th>\n",
       "      <th>CPWVOL5</th>\n",
       "    </tr>\n",
       "  </thead>\n",
       "  <tbody>\n",
       "    <tr>\n",
       "      <th>count</th>\n",
       "      <td>28947.000000</td>\n",
       "      <td>28947.000000</td>\n",
       "      <td>28947.000000</td>\n",
       "      <td>28947.000000</td>\n",
       "      <td>28947.000000</td>\n",
       "      <td>28947.000000</td>\n",
       "      <td>28947.000000</td>\n",
       "      <td>28947.000000</td>\n",
       "      <td>28947.000000</td>\n",
       "      <td>28947.000000</td>\n",
       "      <td>28947.000000</td>\n",
       "      <td>28947.000000</td>\n",
       "      <td>28947.000000</td>\n",
       "      <td>28947.000000</td>\n",
       "      <td>28947.000000</td>\n",
       "      <td>28947.000000</td>\n",
       "    </tr>\n",
       "    <tr>\n",
       "      <th>mean</th>\n",
       "      <td>80.883511</td>\n",
       "      <td>100.459944</td>\n",
       "      <td>9.167864</td>\n",
       "      <td>0.237261</td>\n",
       "      <td>2.282488</td>\n",
       "      <td>0.173130</td>\n",
       "      <td>0.225220</td>\n",
       "      <td>0.155557</td>\n",
       "      <td>10.616735</td>\n",
       "      <td>0.115602</td>\n",
       "      <td>0.359178</td>\n",
       "      <td>0.343766</td>\n",
       "      <td>5.097274</td>\n",
       "      <td>1.207317</td>\n",
       "      <td>2.120359</td>\n",
       "      <td>0.438914</td>\n",
       "    </tr>\n",
       "    <tr>\n",
       "      <th>std</th>\n",
       "      <td>35.576511</td>\n",
       "      <td>34.692314</td>\n",
       "      <td>1.019378</td>\n",
       "      <td>0.425411</td>\n",
       "      <td>0.648001</td>\n",
       "      <td>0.061872</td>\n",
       "      <td>0.109945</td>\n",
       "      <td>0.187581</td>\n",
       "      <td>0.282314</td>\n",
       "      <td>0.030168</td>\n",
       "      <td>0.052673</td>\n",
       "      <td>0.239028</td>\n",
       "      <td>3.472386</td>\n",
       "      <td>0.526528</td>\n",
       "      <td>0.729828</td>\n",
       "      <td>0.219248</td>\n",
       "    </tr>\n",
       "    <tr>\n",
       "      <th>min</th>\n",
       "      <td>2.000000</td>\n",
       "      <td>40.000000</td>\n",
       "      <td>4.158883</td>\n",
       "      <td>0.000000</td>\n",
       "      <td>0.520000</td>\n",
       "      <td>0.058054</td>\n",
       "      <td>0.049550</td>\n",
       "      <td>0.024247</td>\n",
       "      <td>9.867083</td>\n",
       "      <td>0.013506</td>\n",
       "      <td>0.244463</td>\n",
       "      <td>0.002509</td>\n",
       "      <td>0.132097</td>\n",
       "      <td>0.400000</td>\n",
       "      <td>0.772530</td>\n",
       "      <td>0.094562</td>\n",
       "    </tr>\n",
       "    <tr>\n",
       "      <th>25%</th>\n",
       "      <td>53.000000</td>\n",
       "      <td>70.000000</td>\n",
       "      <td>8.489616</td>\n",
       "      <td>0.000000</td>\n",
       "      <td>1.790000</td>\n",
       "      <td>0.122100</td>\n",
       "      <td>0.145985</td>\n",
       "      <td>0.041910</td>\n",
       "      <td>10.456079</td>\n",
       "      <td>0.097938</td>\n",
       "      <td>0.312636</td>\n",
       "      <td>0.123486</td>\n",
       "      <td>2.767046</td>\n",
       "      <td>0.727273</td>\n",
       "      <td>1.626192</td>\n",
       "      <td>0.271673</td>\n",
       "    </tr>\n",
       "    <tr>\n",
       "      <th>50%</th>\n",
       "      <td>86.000000</td>\n",
       "      <td>101.000000</td>\n",
       "      <td>9.034080</td>\n",
       "      <td>0.000000</td>\n",
       "      <td>2.170000</td>\n",
       "      <td>0.170655</td>\n",
       "      <td>0.229390</td>\n",
       "      <td>0.074656</td>\n",
       "      <td>10.635326</td>\n",
       "      <td>0.111221</td>\n",
       "      <td>0.355635</td>\n",
       "      <td>0.346154</td>\n",
       "      <td>4.650687</td>\n",
       "      <td>1.115385</td>\n",
       "      <td>1.963412</td>\n",
       "      <td>0.383227</td>\n",
       "    </tr>\n",
       "    <tr>\n",
       "      <th>75%</th>\n",
       "      <td>111.000000</td>\n",
       "      <td>130.000000</td>\n",
       "      <td>9.764685</td>\n",
       "      <td>0.000000</td>\n",
       "      <td>2.730000</td>\n",
       "      <td>0.213949</td>\n",
       "      <td>0.284395</td>\n",
       "      <td>0.187761</td>\n",
       "      <td>10.796960</td>\n",
       "      <td>0.135168</td>\n",
       "      <td>0.402313</td>\n",
       "      <td>0.528313</td>\n",
       "      <td>6.650602</td>\n",
       "      <td>1.538462</td>\n",
       "      <td>2.533672</td>\n",
       "      <td>0.560240</td>\n",
       "    </tr>\n",
       "    <tr>\n",
       "      <th>max</th>\n",
       "      <td>137.000000</td>\n",
       "      <td>160.000000</td>\n",
       "      <td>13.482016</td>\n",
       "      <td>1.000000</td>\n",
       "      <td>3.870000</td>\n",
       "      <td>0.307398</td>\n",
       "      <td>0.528362</td>\n",
       "      <td>0.995691</td>\n",
       "      <td>11.236197</td>\n",
       "      <td>0.216354</td>\n",
       "      <td>0.472308</td>\n",
       "      <td>0.916699</td>\n",
       "      <td>17.855951</td>\n",
       "      <td>2.571429</td>\n",
       "      <td>4.107902</td>\n",
       "      <td>1.143367</td>\n",
       "    </tr>\n",
       "  </tbody>\n",
       "</table>\n",
       "</div>"
      ],
      "text/plain": [
       "              store          week       logmove          feat         price  \\\n",
       "count  28947.000000  28947.000000  28947.000000  28947.000000  28947.000000   \n",
       "mean      80.883511    100.459944      9.167864      0.237261      2.282488   \n",
       "std       35.576511     34.692314      1.019378      0.425411      0.648001   \n",
       "min        2.000000     40.000000      4.158883      0.000000      0.520000   \n",
       "25%       53.000000     70.000000      8.489616      0.000000      1.790000   \n",
       "50%       86.000000    101.000000      9.034080      0.000000      2.170000   \n",
       "75%      111.000000    130.000000      9.764685      0.000000      2.730000   \n",
       "max      137.000000    160.000000     13.482016      1.000000      3.870000   \n",
       "\n",
       "              AGE60          EDUC        ETHNIC        INCOME       HHLARGE  \\\n",
       "count  28947.000000  28947.000000  28947.000000  28947.000000  28947.000000   \n",
       "mean       0.173130      0.225220      0.155557     10.616735      0.115602   \n",
       "std        0.061872      0.109945      0.187581      0.282314      0.030168   \n",
       "min        0.058054      0.049550      0.024247      9.867083      0.013506   \n",
       "25%        0.122100      0.145985      0.041910     10.456079      0.097938   \n",
       "50%        0.170655      0.229390      0.074656     10.635326      0.111221   \n",
       "75%        0.213949      0.284395      0.187761     10.796960      0.135168   \n",
       "max        0.307398      0.528362      0.995691     11.236197      0.216354   \n",
       "\n",
       "            WORKWOM       HVAL150      SSTRDIST       SSTRVOL       CPDIST5  \\\n",
       "count  28947.000000  28947.000000  28947.000000  28947.000000  28947.000000   \n",
       "mean       0.359178      0.343766      5.097274      1.207317      2.120359   \n",
       "std        0.052673      0.239028      3.472386      0.526528      0.729828   \n",
       "min        0.244463      0.002509      0.132097      0.400000      0.772530   \n",
       "25%        0.312636      0.123486      2.767046      0.727273      1.626192   \n",
       "50%        0.355635      0.346154      4.650687      1.115385      1.963412   \n",
       "75%        0.402313      0.528313      6.650602      1.538462      2.533672   \n",
       "max        0.472308      0.916699     17.855951      2.571429      4.107902   \n",
       "\n",
       "            CPWVOL5  \n",
       "count  28947.000000  \n",
       "mean       0.438914  \n",
       "std        0.219248  \n",
       "min        0.094562  \n",
       "25%        0.271673  \n",
       "50%        0.383227  \n",
       "75%        0.560240  \n",
       "max        1.143367  "
      ]
     },
     "execution_count": 13,
     "metadata": {},
     "output_type": "execute_result"
    }
   ],
   "source": [
    "## 10. Print the descriptive statistics of the oj dataframe\n",
    "\n",
    "oj.describe()"
   ]
  },
  {
   "cell_type": "code",
   "execution_count": 16,
   "id": "01ecb27f",
   "metadata": {},
   "outputs": [
    {
     "data": {
      "text/plain": [
       "store         int64\n",
       "brand        object\n",
       "week          int64\n",
       "logmove     float64\n",
       "feat          int64\n",
       "price       float64\n",
       "AGE60       float64\n",
       "EDUC        float64\n",
       "ETHNIC      float64\n",
       "INCOME      float64\n",
       "HHLARGE     float64\n",
       "WORKWOM     float64\n",
       "HVAL150     float64\n",
       "SSTRDIST    float64\n",
       "SSTRVOL     float64\n",
       "CPDIST5     float64\n",
       "CPWVOL5     float64\n",
       "dtype: object"
      ]
     },
     "execution_count": 16,
     "metadata": {},
     "output_type": "execute_result"
    }
   ],
   "source": [
    "oj.dtypes"
   ]
  },
  {
   "cell_type": "code",
   "execution_count": 17,
   "id": "f0d163e1",
   "metadata": {},
   "outputs": [
    {
     "data": {
      "text/plain": [
       "store         int64\n",
       "brand        object\n",
       "week          int64\n",
       "logmove       int64\n",
       "feat          int64\n",
       "price       float64\n",
       "AGE60       float64\n",
       "EDUC        float64\n",
       "ETHNIC      float64\n",
       "INCOME      float64\n",
       "HHLARGE     float64\n",
       "WORKWOM     float64\n",
       "HVAL150     float64\n",
       "SSTRDIST    float64\n",
       "SSTRVOL     float64\n",
       "CPDIST5     float64\n",
       "CPWVOL5     float64\n",
       "dtype: object"
      ]
     },
     "execution_count": 17,
     "metadata": {},
     "output_type": "execute_result"
    }
   ],
   "source": [
    "## 11. Change the data type of \"logmove\" column from float to int\n",
    "\n",
    "oj['logmove'] = oj['logmove'].astype('int64')\n",
    "oj.dtypes"
   ]
  },
  {
   "cell_type": "code",
   "execution_count": 19,
   "id": "85c97c53",
   "metadata": {},
   "outputs": [
    {
     "data": {
      "text/plain": [
       "4    2\n",
       "Name: store, dtype: int64"
      ]
     },
     "execution_count": 19,
     "metadata": {},
     "output_type": "execute_result"
    }
   ],
   "source": [
    "## 12. Retrieve the 5th record pertaining to the \"store\" column alone the oj dataframe\n",
    "oj.iloc[[4]]['store']"
   ]
  },
  {
   "cell_type": "code",
   "execution_count": 20,
   "id": "b42cb27a",
   "metadata": {},
   "outputs": [
    {
     "data": {
      "text/plain": [
       "4    2\n",
       "Name: store, dtype: int64"
      ]
     },
     "execution_count": 20,
     "metadata": {},
     "output_type": "execute_result"
    }
   ],
   "source": [
    "## Alternatively, using loc\n",
    "oj.loc[[4]]['store']"
   ]
  },
  {
   "cell_type": "code",
   "execution_count": null,
   "id": "f47fbdab",
   "metadata": {},
   "outputs": [],
   "source": [
    "## end of notebook"
   ]
  }
 ],
 "metadata": {
  "kernelspec": {
   "display_name": "Python 3 (ipykernel)",
   "language": "python",
   "name": "python3"
  },
  "language_info": {
   "codemirror_mode": {
    "name": "ipython",
    "version": 3
   },
   "file_extension": ".py",
   "mimetype": "text/x-python",
   "name": "python",
   "nbconvert_exporter": "python",
   "pygments_lexer": "ipython3",
   "version": "3.9.12"
  }
 },
 "nbformat": 4,
 "nbformat_minor": 5
}
