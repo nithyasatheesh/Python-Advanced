{
 "cells": [
  {
   "cell_type": "markdown",
   "id": "e99d3050",
   "metadata": {},
   "source": [
    "# Connect Data base in Python & Writing sql commands in Python"
   ]
  },
  {
   "cell_type": "code",
   "execution_count": null,
   "id": "7bc83a27",
   "metadata": {},
   "outputs": [],
   "source": [
    "# importing the module\n"
   ]
  },
  {
   "cell_type": "markdown",
   "id": "12b335fc",
   "metadata": {},
   "source": [
    "### To View list of tables in the existing database"
   ]
  },
  {
   "cell_type": "code",
   "execution_count": null,
   "id": "e6af1675",
   "metadata": {},
   "outputs": [],
   "source": [
    "# connect withe the myTable database\n",
    "\n",
    "\n",
    "# cursor object\n",
    "# A cursor is an object which helps to execute the query and fetch the records from the database\n",
    "\n",
    "# execute the command to view all tables in the data base\n",
    "\n",
    "\n",
    "#Sqlite_master table is created for each database automatically.\n",
    "#It describes the schema of each table with some additional informations\n",
    "\n",
    "\n",
    "# fetches all the rows of a query result. It returns all the rows as a list of tuples"
   ]
  },
  {
   "cell_type": "code",
   "execution_count": null,
   "id": "71c13cd3",
   "metadata": {},
   "outputs": [],
   "source": [
    "# # execute the command to fetch all the data from the table albums\n",
    "\n",
    "  \n",
    "# store all the fetched data in the ans variable\n"
   ]
  },
  {
   "cell_type": "code",
   "execution_count": null,
   "id": "69a114ca",
   "metadata": {},
   "outputs": [],
   "source": [
    "\n",
    "# execute the command to fetch all the data from the table employees\n",
    "\n",
    "  \n",
    "# store all the fetched data in the ans variable\n",
    "\n",
    "  \n",
    "# Since we have already selected all the data entries\n",
    "# using the \"SELECT *\" SQL command and stored them in\n",
    "# the ans variable, all we need to do now is to print\n",
    "# out the ans variable\n"
   ]
  },
  {
   "cell_type": "markdown",
   "id": "b5b65e6d",
   "metadata": {},
   "source": [
    "### Create Database (test_database)"
   ]
  },
  {
   "cell_type": "code",
   "execution_count": null,
   "id": "9ce23d39",
   "metadata": {},
   "outputs": [],
   "source": [
    "## import sqlite3\n",
    "\n",
    "connection = sqlite3.connect('D://Files//test_database1') \n",
    "c = connection.cursor()\n",
    "\n",
    "c.execute('''\n",
    "          CREATE TABLE IF NOT EXISTS products1\n",
    "          ([product_id] INTEGER PRIMARY KEY, [product_name] TEXT)\n",
    "          ''')\n",
    "          \n",
    "c.execute('''\n",
    "          CREATE TABLE IF NOT EXISTS prices1\n",
    "          ([product_id] INTEGER PRIMARY KEY, [price] INTEGER)\n",
    "          ''')\n",
    "                     \n",
    "connection.commit()"
   ]
  },
  {
   "cell_type": "markdown",
   "id": "8d6c98ee",
   "metadata": {},
   "source": [
    "### Insert values into the tables"
   ]
  },
  {
   "cell_type": "code",
   "execution_count": null,
   "id": "8d7b100a",
   "metadata": {},
   "outputs": [],
   "source": [
    "c.execute('''\n",
    "          INSERT INTO products1 (product_id, product_name)\n",
    "\n",
    "                VALUES\n",
    "                (1,'Computer'),\n",
    "                (2,'Printer'),\n",
    "                (3,'Tablet'),\n",
    "                (4,'Desk'),\n",
    "                (5,'Chair')\n",
    "          ''')\n",
    "\n",
    "c.execute('''\n",
    "          INSERT INTO prices1 (product_id, price)\n",
    "\n",
    "                VALUES\n",
    "                (1,1800),\n",
    "                (2,1200),\n",
    "                (3,1300),\n",
    "                (4,1450),\n",
    "                (5,1150)\n",
    "          ''')\n",
    "\n",
    "connection.commit()\n"
   ]
  },
  {
   "cell_type": "markdown",
   "id": "594f9fbf",
   "metadata": {},
   "source": [
    "### Display the results\n",
    " join the ‘products‘ table with the ‘prices‘ table using the product_id column which is present in both tables."
   ]
  },
  {
   "cell_type": "code",
   "execution_count": null,
   "id": "c9de10e6",
   "metadata": {},
   "outputs": [],
   "source": [
    "import pandas as pd\n",
    "c.execute('''\n",
    "          SELECT\n",
    "          a.product_name,\n",
    "          b.price\n",
    "          FROM products1 a\n",
    "          LEFT JOIN prices1 b ON a.product_id = b.product_id\n",
    "          ''')\n",
    "\n",
    "df = pd.DataFrame(c.fetchall(), columns=['product_name','price'])\n",
    "print (df)"
   ]
  },
  {
   "cell_type": "code",
   "execution_count": null,
   "id": "fe238442",
   "metadata": {},
   "outputs": [],
   "source": [
    "# connect with the created database\n",
    "\n",
    "# cursor object\n",
    "\n",
    "# execute the command to view all tables in the test_database \n",
    "\n"
   ]
  },
  {
   "cell_type": "code",
   "execution_count": null,
   "id": "b08329bf",
   "metadata": {},
   "outputs": [],
   "source": [
    "# delete a record from database\n",
    "\n",
    "#print( \"Total number of rows deleted :\", crsr.total_changes)\n",
    "\n",
    "#crsr.close()  \n"
   ]
  }
 ],
 "metadata": {
  "kernelspec": {
   "display_name": "Python 3 (ipykernel)",
   "language": "python",
   "name": "python3"
  },
  "language_info": {
   "codemirror_mode": {
    "name": "ipython",
    "version": 3
   },
   "file_extension": ".py",
   "mimetype": "text/x-python",
   "name": "python",
   "nbconvert_exporter": "python",
   "pygments_lexer": "ipython3",
   "version": "3.9.13"
  }
 },
 "nbformat": 4,
 "nbformat_minor": 5
}
