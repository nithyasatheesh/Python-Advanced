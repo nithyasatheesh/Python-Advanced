{
 "cells": [
  {
   "cell_type": "code",
   "execution_count": null,
   "id": "c63847c9",
   "metadata": {},
   "outputs": [],
   "source": [
    "### Working with different files\n",
    "\n",
    "- Csv\n",
    "\n",
    "- excel\n",
    "\n",
    "- json\n",
    "\n",
    "- xml\n",
    "\n",
    "### Regular Expressions\n",
    "\n",
    "### Executables"
   ]
  },
  {
   "cell_type": "code",
   "execution_count": null,
   "id": "16bed9fb",
   "metadata": {},
   "outputs": [],
   "source": []
  },
  {
   "cell_type": "markdown",
   "id": "78ae956e",
   "metadata": {},
   "source": [
    "#### Regular Expressions"
   ]
  },
  {
   "cell_type": "markdown",
   "id": "3226bcdd",
   "metadata": {},
   "source": [
    "A Regular Expressions (RegEx) is a special sequence of characters that uses a search pattern to find a string or set of strings. It can detect the presence or absence of a text by matching it with a particular pattern, and also can split a pattern into one or more sub-patterns."
   ]
  },
  {
   "cell_type": "markdown",
   "id": "ea13f04b",
   "metadata": {},
   "source": [
    "The match Function\n",
    "This function attempts to match RE pattern to string with optional flags.\n",
    "\n",
    "Here is the syntax for this function −\n",
    "\n",
    "re.match(pattern, string)\n",
    " It includes digits and punctuation and all special characters like $#@!%, etc."
   ]
  },
  {
   "cell_type": "markdown",
   "id": "8b61f368",
   "metadata": {},
   "source": [
    "re.findall()\n",
    "re.match()\n",
    "re.search()"
   ]
  },
  {
   "cell_type": "markdown",
   "id": "cdcfbedf",
   "metadata": {},
   "source": [
    "re.findall() module is used to search for “all” occurrences that match a given pattern.\n",
    "\n",
    "re.match() function of re in Python will search the regular expression pattern and return the first occurrence. The Python RegEx Match method checks for a match only at the beginning of the string\n",
    "\n",
    "re.search() function will search the regular expression pattern and return the first occurrence. Unlike Python re.match(), it will check all lines of the input string. The Python re.search() function returns a match object when the pattern is found and “null” if the pattern is not found"
   ]
  },
  {
   "cell_type": "markdown",
   "id": "ec43f804",
   "metadata": {},
   "source": [
    "“^”: This expression matches the start of a string\n",
    "“w+“: This expression matches the alphanumeric character in the string\n",
    "[] - Square brackets \n",
    "Square brackets specifies a set of characters you wish to match.\n",
    "[^abc] means any character except a or b or c.\n",
    "[^0-9] means any non-digit character."
   ]
  },
  {
   "cell_type": "code",
   "execution_count": null,
   "id": "e6b7f667",
   "metadata": {},
   "outputs": [],
   "source": [
    "### re.findall()\n",
    "\n",
    "# Program to extract numbers from a string\n",
    "\n",
    "\n",
    "\n",
    "string = 'hello 12 hi 89. Howdy 34'\n",
    "\n",
    "\n",
    "# Output: ['12', '89', '34']"
   ]
  },
  {
   "cell_type": "markdown",
   "id": "4bcf7ea8",
   "metadata": {},
   "source": [
    "The re.split method splits the string where there is a match and returns a list of strings where the splits have occurred.\n",
    "\n",
    " re.split()"
   ]
  },
  {
   "cell_type": "code",
   "execution_count": null,
   "id": "af384b81",
   "metadata": {},
   "outputs": [],
   "source": [
    "string = 'Twelve:12 Eighty nine:89.'\n",
    "\n",
    "\n",
    "# Output: ['Twelve:', ' Eighty nine:', '.']"
   ]
  },
  {
   "cell_type": "markdown",
   "id": "0a042984",
   "metadata": {},
   "source": [
    "##### re.search()\n",
    "The re.search() method takes two arguments: a pattern and a string. The method looks for the first location where the RegEx pattern produces a match with the string.\n",
    "\n",
    "If the search is successful, re.search() returns a match object; if not, it returns None\n",
    "match1 = re.search(pattern, str)"
   ]
  },
  {
   "cell_type": "code",
   "execution_count": null,
   "id": "73ae47ef",
   "metadata": {},
   "outputs": [],
   "source": [
    "string = \"Python is fun\"\n",
    "\n",
    "# check if 'Python' is at the beginning\n"
   ]
  },
  {
   "cell_type": "markdown",
   "id": "bca552f6",
   "metadata": {},
   "source": [
    "##### match.group()\n",
    "The group() method returns the part of the string where there is a match."
   ]
  },
  {
   "cell_type": "code",
   "execution_count": null,
   "id": "c464e5ca",
   "metadata": {},
   "outputs": [],
   "source": [
    "string = '39801 356, 2102 1111'\n",
    "\n",
    "# Three digit number followed by space followed by two digit number\n"
   ]
  },
  {
   "cell_type": "markdown",
   "id": "4320b81c",
   "metadata": {},
   "source": [
    "Our pattern (\\d{3}) (\\d{2}) has two subgroups (\\d{3}) and (\\d{2}). You can get the part of the string of these parenthesized subgroups."
   ]
  },
  {
   "cell_type": "code",
   "execution_count": null,
   "id": "35174515",
   "metadata": {},
   "outputs": [],
   "source": [
    "\n"
   ]
  },
  {
   "cell_type": "markdown",
   "id": "085d2e42",
   "metadata": {},
   "source": [
    "##### match.start(), match.end() and match.span()\n",
    "The start() function returns the index of the start of the matched substring. Similarly, end() returns the end index of the matched substring."
   ]
  },
  {
   "cell_type": "code",
   "execution_count": null,
   "id": "6350de49",
   "metadata": {},
   "outputs": [],
   "source": []
  },
  {
   "cell_type": "code",
   "execution_count": null,
   "id": "b1d760a3",
   "metadata": {},
   "outputs": [],
   "source": []
  },
  {
   "cell_type": "markdown",
   "id": "00fd2869",
   "metadata": {},
   "source": [
    "##### Using r prefix before RegEx\n",
    "When r or R prefix is used before a regular expression, it means raw string. For example, '\\n' is a new line whereas r'\\n' means two characters: a backslash \\ followed by n.\n",
    "\n",
    "Backlash \\ is used to escape various characters including all metacharacters. However, using r prefix makes \\ treat as a normal character."
   ]
  },
  {
   "cell_type": "code",
   "execution_count": null,
   "id": "e6e110bc",
   "metadata": {},
   "outputs": [],
   "source": [
    "#Raw string using r prefix\n",
    "\n",
    "string = '\\n and \\r are escape sequences.'\n",
    "\n"
   ]
  },
  {
   "cell_type": "markdown",
   "id": "e2496c0f",
   "metadata": {},
   "source": [
    "#### Examples"
   ]
  },
  {
   "cell_type": "code",
   "execution_count": null,
   "id": "f0197289",
   "metadata": {},
   "outputs": [],
   "source": []
  },
  {
   "cell_type": "code",
   "execution_count": null,
   "id": "fef26ddf",
   "metadata": {},
   "outputs": [],
   "source": []
  },
  {
   "cell_type": "code",
   "execution_count": null,
   "id": "1a237b95",
   "metadata": {},
   "outputs": [],
   "source": []
  },
  {
   "cell_type": "code",
   "execution_count": null,
   "id": "81d11e20",
   "metadata": {},
   "outputs": [],
   "source": []
  },
  {
   "cell_type": "code",
   "execution_count": null,
   "id": "a6c62d0d",
   "metadata": {},
   "outputs": [],
   "source": []
  },
  {
   "cell_type": "code",
   "execution_count": null,
   "id": "8f3b1ac4",
   "metadata": {},
   "outputs": [],
   "source": []
  },
  {
   "cell_type": "code",
   "execution_count": null,
   "id": "021a9676",
   "metadata": {},
   "outputs": [],
   "source": [
    "s=\"This is the first sentence 34567\"\n",
    "s1=\"This is the second sentence\"\n"
   ]
  },
  {
   "cell_type": "code",
   "execution_count": null,
   "id": "258ba885",
   "metadata": {},
   "outputs": [],
   "source": [
    "target_string = \"Jessa loves Python and pandas\"\n",
    "# Match six-letter word\n"
   ]
  },
  {
   "cell_type": "code",
   "execution_count": null,
   "id": "129f0eca",
   "metadata": {},
   "outputs": [],
   "source": [
    "target_string = \"Jessas loves Python and pandas\"\n",
    "# Match six-letter word\n",
    "\n",
    "\n",
    "# match() method   --> re.match() method looks for the regex pattern only at the beginning \n",
    "#of the target string and returns match object if match found; otherwise, it will return None.\n",
    "\n",
    "\n",
    "# Output None\n",
    "\n",
    "# search() method ->Matches pattern anywhere in the string. Return only first match\n",
    "\n",
    "\n",
    "# Output 'Python'\n",
    "\n",
    "# findall() method -->Returns all matches to the pattern\n",
    "\n",
    "\n",
    "# Output ['Python', 'pandas'] "
   ]
  },
  {
   "cell_type": "code",
   "execution_count": null,
   "id": "9c46275e",
   "metadata": {},
   "outputs": [],
   "source": [
    "# Example to match the four-digit number at the end of the string\n",
    "target_string = \"Emma is a basketball player who was born on June 17, 1993\"\n",
    "\n",
    "# match at the end\n"
   ]
  },
  {
   "cell_type": "code",
   "execution_count": null,
   "id": "a2787075",
   "metadata": {},
   "outputs": [],
   "source": [
    "target_string = \"Jessa and Kelly\"\n",
    "\n",
    "# Match five-letter word\n",
    "\n",
    "\n",
    "# printing entire match object\n",
    "\n",
    "\n",
    "\n",
    "# Extract Matching value\n",
    "\n",
    "\n",
    "\n",
    "# Start index of a match\n",
    "\n",
    "\n",
    "\n",
    "# End index of a match\n",
    "\n",
    "# Start and end index of a match\n"
   ]
  },
  {
   "cell_type": "markdown",
   "id": "2960ce25",
   "metadata": {},
   "source": [
    "### Executables"
   ]
  },
  {
   "cell_type": "markdown",
   "id": "fd8ed990",
   "metadata": {},
   "source": [
    "An executable is a file that contains a program - that is, a particular kind of file that is capable of being executed or run as a program in the computer."
   ]
  },
  {
   "cell_type": "markdown",
   "id": "baee4659",
   "metadata": {},
   "source": [
    "#### Convert .py file into .exe file"
   ]
  },
  {
   "cell_type": "code",
   "execution_count": null,
   "id": "5b9da7b1",
   "metadata": {},
   "outputs": [],
   "source": [
    "!pip install pyinstaller"
   ]
  },
  {
   "cell_type": "code",
   "execution_count": null,
   "id": "af4b638e",
   "metadata": {},
   "outputs": [],
   "source": [
    "Go to command powershell."
   ]
  }
 ],
 "metadata": {
  "kernelspec": {
   "display_name": "Python 3 (ipykernel)",
   "language": "python",
   "name": "python3"
  },
  "language_info": {
   "codemirror_mode": {
    "name": "ipython",
    "version": 3
   },
   "file_extension": ".py",
   "mimetype": "text/x-python",
   "name": "python",
   "nbconvert_exporter": "python",
   "pygments_lexer": "ipython3",
   "version": "3.9.13"
  }
 },
 "nbformat": 4,
 "nbformat_minor": 5
}
